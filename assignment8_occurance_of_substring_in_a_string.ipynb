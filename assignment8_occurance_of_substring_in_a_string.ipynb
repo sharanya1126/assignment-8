{
  "nbformat": 4,
  "nbformat_minor": 0,
  "metadata": {
    "colab": {
      "name": "assignment8-occurance of substring in a string",
      "provenance": []
    },
    "kernelspec": {
      "name": "python3",
      "display_name": "Python 3"
    }
  },
  "cells": [
    {
      "cell_type": "code",
      "metadata": {
        "id": "glm94UzGMzl3",
        "colab_type": "code",
        "colab": {
          "base_uri": "https://localhost:8080/",
          "height": 67
        },
        "outputId": "411418a3-a222-420d-bbbd-98153cab5b09"
      },
      "source": [
        "str1=\"my name is sharanya.\"\n",
        "print()\n",
        "print(str1.count(\"a\"))\n",
        "print()"
      ],
      "execution_count": 2,
      "outputs": [
        {
          "output_type": "stream",
          "text": [
            "\n",
            "4\n",
            "\n"
          ],
          "name": "stdout"
        }
      ]
    }
  ]
}