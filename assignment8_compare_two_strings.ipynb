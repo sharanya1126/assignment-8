{
  "nbformat": 4,
  "nbformat_minor": 0,
  "metadata": {
    "colab": {
      "name": "assignment8-compare two strings",
      "provenance": []
    },
    "kernelspec": {
      "name": "python3",
      "display_name": "Python 3"
    }
  },
  "cells": [
    {
      "cell_type": "code",
      "metadata": {
        "id": "9S3eF-mDT3so",
        "colab_type": "code",
        "colab": {
          "base_uri": "https://localhost:8080/",
          "height": 118
        },
        "outputId": "3a8c3701-d6ee-4cb2-c613-388de33b8c22"
      },
      "source": [
        "print(\"enter 'x' for exit.\")\n",
        "string1=input(\"enter first string:\")\n",
        "if string1=='x':\n",
        "    exit();\n",
        "else:\n",
        "    string2=input(\"Enter second string:\")\n",
        "    if string1==string2:\n",
        "        print(\"\\nboth strings are equal to each other.\")\n",
        "        print(string1,\"==\",string2);\n",
        "    else:\n",
        "        print(\"\\nStrings are not equal.\")\n",
        "        print(string1,\"!=\",string2);"
      ],
      "execution_count": 2,
      "outputs": [
        {
          "output_type": "stream",
          "text": [
            "enter 'x' for exit.\n",
            "enter first string:sharanya\n",
            "Enter second string:sharanya\n",
            "\n",
            "both strings are equal to each other.\n",
            "sharanya == sharanya\n"
          ],
          "name": "stdout"
        }
      ]
    }
  ]
}