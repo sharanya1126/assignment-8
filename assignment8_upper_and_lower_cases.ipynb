{
  "nbformat": 4,
  "nbformat_minor": 0,
  "metadata": {
    "colab": {
      "name": "assignment8-upper and lower cases",
      "provenance": []
    },
    "kernelspec": {
      "name": "python3",
      "display_name": "Python 3"
    }
  },
  "cells": [
    {
      "cell_type": "code",
      "metadata": {
        "id": "iD51DynJS0KA",
        "colab_type": "code",
        "colab": {
          "base_uri": "https://localhost:8080/",
          "height": 67
        },
        "outputId": "0eefc99e-fe10-4cfd-bc02-d6ebee25a644"
      },
      "source": [
        "user_input=input(\"what is your name?\")\n",
        "print(\"my name is\",user_input.upper())\n",
        "print(\"my name is\",user_input.lower())"
      ],
      "execution_count": 1,
      "outputs": [
        {
          "output_type": "stream",
          "text": [
            "what is your name?sharanya\n",
            "my name is SHARANYA\n",
            "my name is sharanya\n"
          ],
          "name": "stdout"
        }
      ]
    }
  ]
}