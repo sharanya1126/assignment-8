{
  "nbformat": 4,
  "nbformat_minor": 0,
  "metadata": {
    "colab": {
      "name": "assignment8-no of times o appears in hello world",
      "provenance": []
    },
    "kernelspec": {
      "name": "python3",
      "display_name": "Python 3"
    }
  },
  "cells": [
    {
      "cell_type": "code",
      "metadata": {
        "id": "x4i2Sia1Q9ZH",
        "colab_type": "code",
        "colab": {
          "base_uri": "https://localhost:8080/",
          "height": 34
        },
        "outputId": "3bb32b5e-d18a-4fb8-b640-a285a5f98d29"
      },
      "source": [
        "string=\"hello world\"\n",
        "substring=\"o\"\n",
        "count=string.count(substring)\n",
        "print(\"the count is:\",count)"
      ],
      "execution_count": 2,
      "outputs": [
        {
          "output_type": "stream",
          "text": [
            "the count is: 2\n"
          ],
          "name": "stdout"
        }
      ]
    }
  ]
}