{
  "nbformat": 4,
  "nbformat_minor": 0,
  "metadata": {
    "colab": {
      "name": "assignment8-deletion of a string",
      "provenance": []
    },
    "kernelspec": {
      "name": "python3",
      "display_name": "Python 3"
    }
  },
  "cells": [
    {
      "cell_type": "code",
      "metadata": {
        "id": "MAaTMfAEV_tD",
        "colab_type": "code",
        "colab": {
          "base_uri": "https://localhost:8080/",
          "height": 50
        },
        "outputId": "03e9406c-b469-479d-b8f2-6cb82c23aeed"
      },
      "source": [
        "test_str=\"gitam\"\n",
        "print(\"the original string is:\"+test_str)\n",
        "new_str=\"\"\n",
        "\n",
        "for i in range(len(test_str)):\n",
        "      if i!=2:\n",
        "         new_str=new_str+ test_str[i]\n",
        "print(\"the string after removal of i'th character:\" +new_str)"
      ],
      "execution_count": 6,
      "outputs": [
        {
          "output_type": "stream",
          "text": [
            "the original string is:gitam\n",
            "the string after removal of i'th character:giam\n"
          ],
          "name": "stdout"
        }
      ]
    }
  ]
}