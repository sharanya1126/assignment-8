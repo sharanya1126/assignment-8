{
  "nbformat": 4,
  "nbformat_minor": 0,
  "metadata": {
    "colab": {
      "name": "assignment8-character frequency",
      "provenance": []
    },
    "kernelspec": {
      "name": "python3",
      "display_name": "Python 3"
    }
  },
  "cells": [
    {
      "cell_type": "code",
      "metadata": {
        "id": "7rhNdNuiLcIt",
        "colab_type": "code",
        "colab": {
          "base_uri": "https://localhost:8080/",
          "height": 34
        },
        "outputId": "424f29a9-5337-4360-90f6-56a12c9c0640"
      },
      "source": [
        "def char_frequency(str1):\n",
        "    dict={}\n",
        "    for n in str1:\n",
        "       keys=dict.keys()\n",
        "       if n in keys:\n",
        "           dict[n]+=1\n",
        "       else:\n",
        "           dict[n]=1\n",
        "    return dict\n",
        "print(char_frequency(\"sharanya.\"))"
      ],
      "execution_count": 3,
      "outputs": [
        {
          "output_type": "stream",
          "text": [
            "{'s': 1, 'h': 1, 'a': 3, 'r': 1, 'n': 1, 'y': 1, '.': 1}\n"
          ],
          "name": "stdout"
        }
      ]
    }
  ]
}