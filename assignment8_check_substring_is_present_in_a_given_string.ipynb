{
  "nbformat": 4,
  "nbformat_minor": 0,
  "metadata": {
    "colab": {
      "name": "assignment8-check substring is present in a given string",
      "provenance": []
    },
    "kernelspec": {
      "name": "python3",
      "display_name": "Python 3"
    }
  },
  "cells": [
    {
      "cell_type": "code",
      "metadata": {
        "id": "EvL2LFMKY-fC",
        "colab_type": "code",
        "colab": {
          "base_uri": "https://localhost:8080/",
          "height": 34
        },
        "outputId": "b8823b3b-b86e-4f8a-b030-2e85b2bf3a80"
      },
      "source": [
        "def check(string,sun_str):\n",
        "  if(string.find(sub_str)== -1):\n",
        "    print(\"NO\")\n",
        "  else:\n",
        "    print(\"YES\")\n",
        "string=\"i am an indian\"\n",
        "sub_str=\"am\"\n",
        "check(string,sub_str)"
      ],
      "execution_count": 2,
      "outputs": [
        {
          "output_type": "stream",
          "text": [
            "YES\n"
          ],
          "name": "stdout"
        }
      ]
    }
  ]
}