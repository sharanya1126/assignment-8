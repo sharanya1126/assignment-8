{
  "nbformat": 4,
  "nbformat_minor": 0,
  "metadata": {
    "colab": {
      "name": "assignment8-print every character of a user in a new line",
      "provenance": []
    },
    "kernelspec": {
      "name": "python3",
      "display_name": "Python 3"
    }
  },
  "cells": [
    {
      "cell_type": "code",
      "metadata": {
        "id": "SnAKgIgGXXBY",
        "colab_type": "code",
        "colab": {
          "base_uri": "https://localhost:8080/",
          "height": 118
        },
        "outputId": "c8c07b42-5c42-4bcc-89f5-11fe4a738262"
      },
      "source": [
        "word=\"python\"\n",
        "for index,letter in enumerate(word,1):\n",
        "     print(index,\":\",letter)"
      ],
      "execution_count": 3,
      "outputs": [
        {
          "output_type": "stream",
          "text": [
            "1 : p\n",
            "2 : y\n",
            "3 : t\n",
            "4 : h\n",
            "5 : o\n",
            "6 : n\n"
          ],
          "name": "stdout"
        }
      ]
    }
  ]
}