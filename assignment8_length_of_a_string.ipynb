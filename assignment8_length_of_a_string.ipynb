{
  "nbformat": 4,
  "nbformat_minor": 0,
  "metadata": {
    "colab": {
      "name": "assignment8-length of a string",
      "provenance": []
    },
    "kernelspec": {
      "name": "python3",
      "display_name": "Python 3"
    }
  },
  "cells": [
    {
      "cell_type": "code",
      "metadata": {
        "id": "elvZ5fCkJtCE",
        "colab_type": "code",
        "colab": {
          "base_uri": "https://localhost:8080/",
          "height": 34
        },
        "outputId": "cb031971-388c-4dd4-e03c-acd3f293e157"
      },
      "source": [
        "def string_length(str1):\n",
        "    count=0\n",
        "    for char in str1:\n",
        "       count+=1\n",
        "    return count\n",
        "print(string_length(\"sharanya\"))"
      ],
      "execution_count": 3,
      "outputs": [
        {
          "output_type": "stream",
          "text": [
            "8\n"
          ],
          "name": "stdout"
        }
      ]
    }
  ]
}